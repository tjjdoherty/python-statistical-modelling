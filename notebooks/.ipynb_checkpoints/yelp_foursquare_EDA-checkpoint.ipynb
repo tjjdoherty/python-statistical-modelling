{
 "cells": [
  {
   "cell_type": "code",
   "execution_count": 46,
   "metadata": {},
   "outputs": [],
   "source": [
    "# imports\n",
    "import pandas as pd\n",
    "import os # use this to access your environment variables\n",
    "import requests # this will be used to call the APIs"
   ]
  },
  {
   "cell_type": "markdown",
   "metadata": {},
   "source": [
    "# Foursquare"
   ]
  },
  {
   "cell_type": "markdown",
   "metadata": {},
   "source": [
    "Send a request to Foursquare with a small radius (1000m) for all the bike stations in your city of choice. "
   ]
  },
  {
   "cell_type": "code",
   "execution_count": 48,
   "metadata": {},
   "outputs": [
    {
     "name": "stdout",
     "output_type": "stream",
     "text": [
      "fsq3F074rL3S6i0kGeOeRWB1KhL1WLyqB4dyTOG72DKFm4A=\n",
      "Crgar6c-4CFZps62GfA4OGaN1ClkE5OfzQoHOVBrC3njmSxaimHL02E2srHd7-WnFVSrXuD4xQpXuzn6KwIS9MwTqT67Xxwm4ddGwHES6kS7aTEWrutBhqA4KHSuZnYx\n"
     ]
    }
   ],
   "source": [
    "FOURSQUARE_KEY = os.getenv('FOURSQUARE_API_KEY')\n",
    "YELP_KEY = os.getenv('YELP_API_KEY')\n",
    "print(FOURSQUARE_KEY)\n",
    "print(YELP_KEY)\n",
    "# confirm both API keys have been imported successfully from Terminal"
   ]
  },
  {
   "cell_type": "code",
   "execution_count": 50,
   "metadata": {},
   "outputs": [],
   "source": [
    "def get_venues_fs(latitude, longitude, radius, api_key, categories, limit):\n",
    "    \"\"\"\n",
    "    Get amenities and POIs from Foursquare API call\n",
    "    Args:\n",
    "        latitude (float): latitude for query (must be combined with longitude)\n",
    "        longitude (float): longitude for query (must be combined with latitude)\n",
    "        api_key (str): foursquare API to use for query (imported in line above)\n",
    "        categories (str) : Foursquare-recognized place type. If not passed no place_type will be specified. Separate ids with commas\n",
    "    \n",
    "    Returns:\n",
    "        response: response object from the requests library.\n",
    "    \"\"\"\n",
    "    url = \"https://api.foursquare.com/v3/places/search\"\n",
    "    \n",
    "    headers = {\n",
    "        \"Accept\": \"application/json\",\n",
    "        \"Authorization\": api_key\n",
    "    }\n",
    "    \n",
    "    params = {\n",
    "        \"ll\": f\"{latitude},{longitude}\",\n",
    "        \"radius\": radius,\n",
    "        \"categories\": categories,\n",
    "        \"limit\": limit\n",
    "    }\n",
    "    \n",
    "    response = requests.get(url, headers=headers, params=params)\n",
    "    \n",
    "    if response.status_code == 200: # 200 is success\n",
    "        return response.json()\n",
    "    else:\n",
    "        response.raise_for_status()\n",
    "        "
   ]
  },
  {
   "cell_type": "code",
   "execution_count": 56,
   "metadata": {},
   "outputs": [
    {
     "name": "stdout",
     "output_type": "stream",
     "text": [
      "44\n",
      "\n",
      "\n",
      "{'fsq_id': '4b11b1f2f964a520778223e3', 'categories': [{'id': 13026, 'name': 'BBQ Joint', 'short_name': 'BBQ', 'plural_name': 'BBQ Joints', 'icon': {'prefix': 'https://ss3.4sqi.net/img/categories_v2/food/bbqalt_', 'suffix': '.png'}}, {'id': 13289, 'name': 'Korean Restaurant', 'short_name': 'Korean', 'plural_name': 'Korean Restaurants', 'icon': {'prefix': 'https://ss3.4sqi.net/img/categories_v2/food/korean_', 'suffix': '.png'}}], 'chains': [], 'closed_bucket': 'LikelyOpen', 'distance': 24, 'geocodes': {'main': {'latitude': 43.664553, 'longitude': -79.414501}, 'roof': {'latitude': 43.664553, 'longitude': -79.414501}}, 'link': '/v3/places/4b11b1f2f964a520778223e3', 'location': {'address': '628 Bloor St W', 'country': 'CA', 'formatted_address': '628 Bloor St W, Toronto ON M6G 1K7', 'locality': 'Toronto', 'postcode': 'M6G 1K7', 'region': 'ON'}, 'name': 'Korean Village Restaurant', 'related_places': {}, 'timezone': 'America/Toronto'}\n",
      "\n",
      "\n",
      "Korean Village Restaurant\n",
      "628 Bloor St W\n",
      "BBQ Joint\n",
      "\n",
      "\n",
      "Ninetails Coffee Bar, 651 Bloor St W, Coffee Shop, ['Coffee Shop', 'Restaurant']\n",
      "Snakes & Lattes, 600 Bloor St W, Café, ['Café', 'Coffee Shop', 'Restaurant']\n",
      "Rustle & Still Café, 605 Bloor St W, Café, ['Café', 'Coffee Shop', 'Sandwich Spot']\n",
      "Korean Village Restaurant, 628 Bloor St W, BBQ Joint, ['BBQ Joint', 'Korean Restaurant']\n",
      "Buk Chang Dong Soon Tofu, 691 Bloor St W, Korean Restaurant, ['Korean Restaurant']\n",
      "Insomnia Restaurant and Lounge, 563 Bloor St W, Restaurant, ['Restaurant', 'Lounge']\n",
      "Basecamp Climbing, 677 Bloor St W, Rock Climbing Spot, ['Rock Climbing Spot', 'Gym and Studio']\n",
      "Christie Pits Park, 750 Bloor St W, Park, ['Park']\n",
      "Sam James Coffee Bar, 297 Harbord St, Café, ['Café', 'Coffee Shop', 'Restaurant']\n",
      "Banjara Indian Cuisine, 796 Bloor St W, Indian Restaurant, ['Indian Restaurant']\n",
      "Kinka Izakaya Bloor, 559 Bloor St W, Japanese Restaurant, ['Japanese Restaurant', 'Sake Bar']\n",
      "Crafty Coyote, 511 Bloor St W, Beer Bar, ['Beer Bar', 'Restaurant']\n",
      "Paradise Grapevine, 841 Bloor St W, Wine Bar, ['Wine Bar']\n",
      "El Pocho Antojitos Bar, 2 Follis Ave, Bar, ['Bar', 'Tex-Mex Restaurant']\n",
      "Victory Cafe, 440 Bloor St W, Beer Bar, ['Beer Bar', 'Restaurant']\n",
      "Pizza Gigi, 189 Harbord St, Pizzeria, ['Pizzeria']\n",
      "New Generation Sushi, 486 Bloor St W, Sushi Restaurant, ['Sushi Restaurant']\n",
      "Sushi on Bloor, 515 Bloor St W, Sushi Restaurant, ['Sushi Restaurant']\n",
      "Vermont Square Park, 819 Palmerston Ave, Playground, ['Playground']\n",
      "Famoso Italian Pizzeria - Annex, 386 Bloor St W, Pizzeria, ['Pizzeria', 'Italian Restaurant']\n",
      "Arisu, 584 Bloor St W, BBQ Joint, ['BBQ Joint', 'Japanese Restaurant', 'Korean Restaurant']\n",
      "Baskin-Robbins, 726 Bloor St W, Ice Cream Parlor, ['Ice Cream Parlor', 'Fast Food Restaurant']\n",
      "St. Louis Bar and Grill, 376 Bloor St W, BBQ Joint, ['BBQ Joint', 'Italian Restaurant', 'Vietnamese Restaurant']\n",
      "Pour Boy Pub, 666 Manning Ave, Pub, ['Pub', 'Restaurant']\n",
      "Future Bistro, 483 Bloor St W, Bakery, ['Bakery', 'Bistro', 'Café']\n",
      "Coda, 794 Bathurst St, Night Club, ['Night Club', 'Bar']\n",
      "Paupers Pub, 539 Bloor St W, Pub, ['Pub', 'Burger Joint', 'American Restaurant']\n",
      "Mary Brown's Chicken, 636 Bloor St W, Fried Chicken Joint, ['Fried Chicken Joint', 'Fast Food Restaurant']\n",
      "MaMa Chef Korean Restaurant, 648 Bloor St W, Korean Restaurant, ['Korean Restaurant']\n",
      "Jin Dal Lae, 647 Bloor St W, Korean Restaurant, ['Korean Restaurant']\n",
      "Ka-Chi, 2322 Bloor St W, Korean Restaurant, ['Korean Restaurant']\n",
      "Greek in the Village, 664 Bloor St W, Greek Restaurant, ['Greek Restaurant']\n",
      "JJIN Toast, 792 Bathurst St, Korean Restaurant, ['Korean Restaurant']\n",
      "Ed and Anne Mirvish Parkette, 843 Bathurst, Park, ['Park']\n",
      "Kinton Ramen, 668 Bloor St W, Ramen Restaurant, ['Ramen Restaurant', 'Noodle Restaurant']\n",
      "Tim Hortons, 726 Bloor St W, Cafe, Coffee, and Tea House, ['Cafe, Coffee, and Tea House', 'Donut Shop', 'Restaurant']\n",
      "Bickford Park, Address not available, Park, ['Park']\n",
      "Chibachou, 196 Borden St, Deli, ['Deli']\n",
      "Healey Willan Park, 504 Euclid Ave, Park, ['Park']\n",
      "St. Alban's Square, 90 Howland Ave, Park, ['Park']\n",
      "Joseph Burr Tyrell Park, 357 Brunswick Ave, Playground, ['Playground']\n",
      "Art Eggleton Park, 323 Harbord St, Park, ['Park']\n",
      "The Londoners Pub: boire, manger, danser, bouger & Grill Inc, 500 Bloor St W, Restaurant, ['Restaurant']\n",
      "The Saturday Songwriters Circus, 292 Brunswick Ave, Concert Hall, ['Concert Hall']\n"
     ]
    }
   ],
   "source": [
    "# testing\n",
    "\n",
    "categories = '10035,13003,13065,16000' # See following cell bullet points for category names - bars, restaurants, live shows, outdoors\n",
    "\n",
    "res = get_venues_fs(latitude=43.664467, longitude=-79.414783, radius=750, api_key=FOURSQUARE_KEY, categories=categories, limit=50)\n",
    "\n",
    "print(len(res['results']))\n",
    "print(\"\\n\")\n",
    "print(res['results'][3]) # main body of a specific venue result\n",
    "print(\"\\n\")\n",
    "\n",
    "print(res['results'][3]['name'])  # this is how you access the name, we could loop through to get names\n",
    "\n",
    "print(res['results'][3]['location']['address']) # accessing the address for the dataframe\n",
    "\n",
    "print(res['results'][3]['categories'][0]['name']) # accessing the first general category of the venue, most only have one\n",
    "print(\"\\n\")\n",
    "\n",
    "for venue in res['results']:\n",
    "    name = venue['name']\n",
    "    address = venue['location'].get('address', 'Address not available')\n",
    "    first_category = venue['categories'][0]['name']\n",
    "    category_names = [category['name'] for category in venue['categories']] # there are multiple categories for some venues\n",
    "    print(f\"{name}, {address}, {first_category}, {category_names}\")\n",
    "\n",
    "    \n",
    "# print(res['results'])"
   ]
  },
  {
   "cell_type": "markdown",
   "metadata": {},
   "source": [
    "**Notes on the test API Call and justification of parameters:**\n",
    "- Downtown Toronto is very densely packed with bike stations and the amenities I will be searching for. The default radius is 5km which is too large to capture the relationship between bike/dock availability and amenities. The appropriate range would be either **1km or even 750m**\n",
    "- Foursquare Category IDs of interest are: 10035 (Performing Arts Venue), 12013 (College and University amenities), 13003 (Bars), 13065 (Restaurants)\n",
    "- Other candidates: 16000 (landmarks & outdoors), 17057 (Food & Beverage Retail), 18000 (Sports & Recreaction)"
   ]
  },
  {
   "cell_type": "markdown",
   "metadata": {},
   "source": [
    "**Notes on the information to return in dataframe**\n",
    "- Name of Venue\n",
    "- Address\n",
    "- Venue Categories\n",
    "- The latitude and longitude used to call the results belongs to the bike dock\n",
    "\n",
    "The unified dataframe is about the bike docks/stations and this data will return number of bars, number of restaurants, performing arts venues, outdoor venues"
   ]
  },
  {
   "cell_type": "code",
   "execution_count": null,
   "metadata": {},
   "outputs": [],
   "source": []
  },
  {
   "cell_type": "markdown",
   "metadata": {},
   "source": [
    "Parse through the response to get the POI (such as restaurants, bars, etc) details you want (ratings, name, location, etc)"
   ]
  },
  {
   "cell_type": "code",
   "execution_count": null,
   "metadata": {},
   "outputs": [],
   "source": []
  },
  {
   "cell_type": "markdown",
   "metadata": {},
   "source": [
    "Put your parsed results into a DataFrame"
   ]
  },
  {
   "cell_type": "code",
   "execution_count": null,
   "metadata": {},
   "outputs": [],
   "source": []
  },
  {
   "cell_type": "markdown",
   "metadata": {},
   "source": [
    "# Yelp"
   ]
  },
  {
   "cell_type": "markdown",
   "metadata": {},
   "source": [
    "**Send a request to Yelp with a small radius (1000m) for all the bike stations in your city of choice.**"
   ]
  },
  {
   "cell_type": "markdown",
   "metadata": {},
   "source": [
    "My notes on Yelp Fusion API (https://docs.developer.yelp.com/docs/fusion-intro):\n",
    "- They have a number of different types of search including search for events, search by business ID, others... see https://docs.developer.yelp.com/docs/resources-categories\n",
    "- To compare closest with Foursquare we will use the standard businesses search https://docs.developer.yelp.com/reference/v3_business_search\n",
    "- The starter API package offers review count and average review star rating\n",
    "- First 300 calls are free and it's 7.99 for 1000 API calls\n",
    "- We would need to make at least 820 api calls for each of the bike stations"
   ]
  },
  {
   "cell_type": "code",
   "execution_count": 30,
   "metadata": {},
   "outputs": [],
   "source": [
    "def get_venues_yelp(latitude, longitude, radius, yelp_key, categories, limit):\n",
    "    \"\"\"\n",
    "    Get amenities and POIs from Yelp API call\n",
    "    Args:\n",
    "        latitude (float): latitude for query (must be combined with longitude)\n",
    "        longitude (float): longitude for query (must be combined with latitude)\n",
    "        yelp_key (str): yelp API to use for query (see imports in first cell)\n",
    "        categories (str) : Place type, wit Yelp API they are descriptive eg. \"bar,restaurant\" unlike Foursquare's 5-digit codes. Separate ids with commas\n",
    "    Returns:\n",
    "        response: response object from the requests library.\n",
    "    \"\"\"\n",
    "    url = \"https://api.yelp.com/v3/businesses/search\"\n",
    "    \n",
    "    headers = {\n",
    "        \"Accept\": \"application/json\",\n",
    "        \"Authorization\": yelp_key\n",
    "    }\n",
    "    \n",
    "    params = {\n",
    "        \"latitude\": f\"{latitude}\",\n",
    "        \"longitude\": f\"{longitude}\",\n",
    "        \"radius\": radius,\n",
    "        \"categories\": categories,\n",
    "        \"limit\": limit\n",
    "    }\n",
    "    \n",
    "    response = requests.get(url, headers=headers, params=params)\n",
    "    \n",
    "    if response.status_code == 200: # 200 is success\n",
    "        return response.json()\n",
    "    else:\n",
    "        response.raise_for_status()   "
   ]
  },
  {
   "cell_type": "code",
   "execution_count": 38,
   "metadata": {},
   "outputs": [
    {
     "ename": "HTTPError",
     "evalue": "400 Client Error: Bad Request for url: https://api.yelp.com/v3/businesses/search?latitude=43.664467&longitude=-79.414783&radius=750&categories=cafes%2Cbars%2Crestaurants%2Cparks%2Cmusicvenues&limit=50",
     "output_type": "error",
     "traceback": [
      "\u001b[0;31m---------------------------------------------------------------------------\u001b[0m",
      "\u001b[0;31mHTTPError\u001b[0m                                 Traceback (most recent call last)",
      "Cell \u001b[0;32mIn[38], line 6\u001b[0m\n\u001b[1;32m      2\u001b[0m keep \u001b[38;5;241m=\u001b[39m \u001b[38;5;241m43.664467\u001b[39m, \u001b[38;5;241m-\u001b[39m\u001b[38;5;241m79.414783\u001b[39m\n\u001b[1;32m      4\u001b[0m yelp_categories \u001b[38;5;241m=\u001b[39m \u001b[38;5;124m'\u001b[39m\u001b[38;5;124mcafes,bars,restaurants,parks,musicvenues\u001b[39m\u001b[38;5;124m'\u001b[39m \u001b[38;5;66;03m# bars, restaurants, live shows, outdoors\u001b[39;00m\n\u001b[0;32m----> 6\u001b[0m yelp_res \u001b[38;5;241m=\u001b[39m get_venues_yelp(latitude\u001b[38;5;241m=\u001b[39m\u001b[38;5;241m43.664467\u001b[39m, longitude\u001b[38;5;241m=\u001b[39m\u001b[38;5;241m-\u001b[39m\u001b[38;5;241m79.414783\u001b[39m, radius\u001b[38;5;241m=\u001b[39m\u001b[38;5;241m750\u001b[39m, yelp_key\u001b[38;5;241m=\u001b[39mYELP_KEY, categories\u001b[38;5;241m=\u001b[39myelp_categories, limit\u001b[38;5;241m=\u001b[39m\u001b[38;5;241m50\u001b[39m)\n\u001b[1;32m      8\u001b[0m \u001b[38;5;28mprint\u001b[39m(yelp_res)\n",
      "Cell \u001b[0;32mIn[30], line 32\u001b[0m, in \u001b[0;36mget_venues_yelp\u001b[0;34m(latitude, longitude, radius, yelp_key, categories, limit)\u001b[0m\n\u001b[1;32m     30\u001b[0m     \u001b[38;5;28;01mreturn\u001b[39;00m response\u001b[38;5;241m.\u001b[39mjson()\n\u001b[1;32m     31\u001b[0m \u001b[38;5;28;01melse\u001b[39;00m:\n\u001b[0;32m---> 32\u001b[0m     response\u001b[38;5;241m.\u001b[39mraise_for_status()\n",
      "File \u001b[0;32m/opt/anaconda3/lib/python3.12/site-packages/requests/models.py:1024\u001b[0m, in \u001b[0;36mResponse.raise_for_status\u001b[0;34m(self)\u001b[0m\n\u001b[1;32m   1019\u001b[0m     http_error_msg \u001b[38;5;241m=\u001b[39m (\n\u001b[1;32m   1020\u001b[0m         \u001b[38;5;124mf\u001b[39m\u001b[38;5;124m\"\u001b[39m\u001b[38;5;132;01m{\u001b[39;00m\u001b[38;5;28mself\u001b[39m\u001b[38;5;241m.\u001b[39mstatus_code\u001b[38;5;132;01m}\u001b[39;00m\u001b[38;5;124m Server Error: \u001b[39m\u001b[38;5;132;01m{\u001b[39;00mreason\u001b[38;5;132;01m}\u001b[39;00m\u001b[38;5;124m for url: \u001b[39m\u001b[38;5;132;01m{\u001b[39;00m\u001b[38;5;28mself\u001b[39m\u001b[38;5;241m.\u001b[39murl\u001b[38;5;132;01m}\u001b[39;00m\u001b[38;5;124m\"\u001b[39m\n\u001b[1;32m   1021\u001b[0m     )\n\u001b[1;32m   1023\u001b[0m \u001b[38;5;28;01mif\u001b[39;00m http_error_msg:\n\u001b[0;32m-> 1024\u001b[0m     \u001b[38;5;28;01mraise\u001b[39;00m HTTPError(http_error_msg, response\u001b[38;5;241m=\u001b[39m\u001b[38;5;28mself\u001b[39m)\n",
      "\u001b[0;31mHTTPError\u001b[0m: 400 Client Error: Bad Request for url: https://api.yelp.com/v3/businesses/search?latitude=43.664467&longitude=-79.414783&radius=750&categories=cafes%2Cbars%2Crestaurants%2Cparks%2Cmusicvenues&limit=50"
     ]
    }
   ],
   "source": [
    "# testing\n",
    "\n",
    "yelp_categories = 'cafes,bars,restaurants,parks,musicvenues' # bars, restaurants, live shows, outdoors\n",
    "\n",
    "yelp_res = get_venues_yelp(latitude=43.664467, longitude=-79.414783, radius=750, yelp_key=YELP_KEY, categories=yelp_categories, limit=50)\n",
    "\n",
    "print(yelp_res)"
   ]
  },
  {
   "cell_type": "markdown",
   "metadata": {},
   "source": [
    "Parse through the response to get the POI (such as restaurants, bars, etc) details you want (ratings, name, location, etc)"
   ]
  },
  {
   "cell_type": "code",
   "execution_count": null,
   "metadata": {},
   "outputs": [],
   "source": []
  },
  {
   "cell_type": "markdown",
   "metadata": {},
   "source": [
    "Put your parsed results into a DataFrame"
   ]
  },
  {
   "cell_type": "markdown",
   "metadata": {},
   "source": []
  },
  {
   "cell_type": "markdown",
   "metadata": {},
   "source": [
    "# Comparing Results"
   ]
  },
  {
   "cell_type": "markdown",
   "metadata": {},
   "source": [
    "Which API provided you with more complete data? Provide an explanation. "
   ]
  },
  {
   "cell_type": "markdown",
   "metadata": {},
   "source": []
  },
  {
   "cell_type": "markdown",
   "metadata": {},
   "source": [
    "Get the top 10 restaurants according to their rating"
   ]
  },
  {
   "cell_type": "code",
   "execution_count": null,
   "metadata": {},
   "outputs": [],
   "source": []
  }
 ],
 "metadata": {
  "kernelspec": {
   "display_name": "Python 3 (ipykernel)",
   "language": "python",
   "name": "python3"
  },
  "language_info": {
   "codemirror_mode": {
    "name": "ipython",
    "version": 3
   },
   "file_extension": ".py",
   "mimetype": "text/x-python",
   "name": "python",
   "nbconvert_exporter": "python",
   "pygments_lexer": "ipython3",
   "version": "3.12.2"
  }
 },
 "nbformat": 4,
 "nbformat_minor": 4
}
