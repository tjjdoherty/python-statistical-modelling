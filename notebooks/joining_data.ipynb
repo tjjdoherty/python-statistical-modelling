{
 "cells": [
  {
   "cell_type": "markdown",
   "metadata": {},
   "source": [
    "Join the data from Part 1 with the data from Part 2 to create a new dataframe."
   ]
  },
  {
   "cell_type": "code",
   "execution_count": 6,
   "metadata": {},
   "outputs": [],
   "source": [
    "# imports\n",
    "import pandas as pd\n",
    "import numpy as np\n",
    "import os # use this to access your environment variables\n",
    "import requests # this will be used to call the APIs"
   ]
  },
  {
   "cell_type": "code",
   "execution_count": 18,
   "metadata": {},
   "outputs": [],
   "source": [
    "bike_stations = pd.read_csv(\"../data/bike_stations_sat_3pm_clean.csv\")"
   ]
  },
  {
   "cell_type": "code",
   "execution_count": 20,
   "metadata": {},
   "outputs": [
    {
     "data": {
      "text/html": [
       "<div>\n",
       "<style scoped>\n",
       "    .dataframe tbody tr th:only-of-type {\n",
       "        vertical-align: middle;\n",
       "    }\n",
       "\n",
       "    .dataframe tbody tr th {\n",
       "        vertical-align: top;\n",
       "    }\n",
       "\n",
       "    .dataframe thead th {\n",
       "        text-align: right;\n",
       "    }\n",
       "</style>\n",
       "<table border=\"1\" class=\"dataframe\">\n",
       "  <thead>\n",
       "    <tr style=\"text-align: right;\">\n",
       "      <th></th>\n",
       "      <th>id</th>\n",
       "      <th>name</th>\n",
       "      <th>latitude</th>\n",
       "      <th>longitude</th>\n",
       "      <th>free_bikes</th>\n",
       "      <th>empty_slots</th>\n",
       "      <th>bike_availability</th>\n",
       "      <th>ll</th>\n",
       "    </tr>\n",
       "  </thead>\n",
       "  <tbody>\n",
       "    <tr>\n",
       "      <th>0</th>\n",
       "      <td>fb337bbed72e2be090071e199899b2be</td>\n",
       "      <td>Queen St E / Woodward Ave</td>\n",
       "      <td>43.665269</td>\n",
       "      <td>-79.319796</td>\n",
       "      <td>18</td>\n",
       "      <td>1</td>\n",
       "      <td>94.74</td>\n",
       "      <td>43.665269,-79.319796</td>\n",
       "    </tr>\n",
       "    <tr>\n",
       "      <th>1</th>\n",
       "      <td>4ff88d5880e71aa40d34cfe5d09b0ca7</td>\n",
       "      <td>Primrose Ave / Davenport Rd</td>\n",
       "      <td>43.671420</td>\n",
       "      <td>-79.445947</td>\n",
       "      <td>1</td>\n",
       "      <td>14</td>\n",
       "      <td>6.67</td>\n",
       "      <td>43.67142,-79.445947</td>\n",
       "    </tr>\n",
       "    <tr>\n",
       "      <th>2</th>\n",
       "      <td>a09c67c0b419654d907c9134b108e328</td>\n",
       "      <td>Queen St E / Rhodes Ave</td>\n",
       "      <td>43.666224</td>\n",
       "      <td>-79.317693</td>\n",
       "      <td>12</td>\n",
       "      <td>11</td>\n",
       "      <td>52.17</td>\n",
       "      <td>43.666224,-79.317693</td>\n",
       "    </tr>\n",
       "    <tr>\n",
       "      <th>3</th>\n",
       "      <td>d6a9daee68070a8b106cfb598d81308c</td>\n",
       "      <td>Bond St / Queen St E</td>\n",
       "      <td>43.653236</td>\n",
       "      <td>-79.376716</td>\n",
       "      <td>5</td>\n",
       "      <td>32</td>\n",
       "      <td>13.51</td>\n",
       "      <td>43.653236,-79.376716</td>\n",
       "    </tr>\n",
       "    <tr>\n",
       "      <th>4</th>\n",
       "      <td>8f8af40d9388c8a3962559e8681d3db7</td>\n",
       "      <td>Church St / Alexander St</td>\n",
       "      <td>43.663722</td>\n",
       "      <td>-79.380288</td>\n",
       "      <td>3</td>\n",
       "      <td>32</td>\n",
       "      <td>8.57</td>\n",
       "      <td>43.663722,-79.380288</td>\n",
       "    </tr>\n",
       "    <tr>\n",
       "      <th>...</th>\n",
       "      <td>...</td>\n",
       "      <td>...</td>\n",
       "      <td>...</td>\n",
       "      <td>...</td>\n",
       "      <td>...</td>\n",
       "      <td>...</td>\n",
       "      <td>...</td>\n",
       "      <td>...</td>\n",
       "    </tr>\n",
       "    <tr>\n",
       "      <th>821</th>\n",
       "      <td>9be5f078a1ed47fc11cd3cee45260f63</td>\n",
       "      <td>Kennedy Rd/Ranstone Gdns (Jack Goodlad Park)</td>\n",
       "      <td>43.741906</td>\n",
       "      <td>-79.271819</td>\n",
       "      <td>1</td>\n",
       "      <td>10</td>\n",
       "      <td>9.09</td>\n",
       "      <td>43.741906,-79.271819</td>\n",
       "    </tr>\n",
       "    <tr>\n",
       "      <th>822</th>\n",
       "      <td>4ae37f3bddfb819954a15143d277dbd9</td>\n",
       "      <td>Eglinton Ave E / Brimley Rd</td>\n",
       "      <td>43.736953</td>\n",
       "      <td>-79.247984</td>\n",
       "      <td>8</td>\n",
       "      <td>11</td>\n",
       "      <td>42.11</td>\n",
       "      <td>43.736953,-79.247984</td>\n",
       "    </tr>\n",
       "    <tr>\n",
       "      <th>823</th>\n",
       "      <td>e7968ab22d9a15db0673f463144428eb</td>\n",
       "      <td>College Park South</td>\n",
       "      <td>43.659457</td>\n",
       "      <td>-79.382365</td>\n",
       "      <td>7</td>\n",
       "      <td>11</td>\n",
       "      <td>38.89</td>\n",
       "      <td>43.659457,-79.382365</td>\n",
       "    </tr>\n",
       "    <tr>\n",
       "      <th>824</th>\n",
       "      <td>62acc308c0f93ff09d28e06c73afc3ec</td>\n",
       "      <td>165 McRae Dr</td>\n",
       "      <td>43.705875</td>\n",
       "      <td>-79.368006</td>\n",
       "      <td>4</td>\n",
       "      <td>11</td>\n",
       "      <td>26.67</td>\n",
       "      <td>43.705875,-79.368006</td>\n",
       "    </tr>\n",
       "    <tr>\n",
       "      <th>825</th>\n",
       "      <td>bea74af3bf338f6416944906b4b99d01</td>\n",
       "      <td>Albany Ave / Dupont St</td>\n",
       "      <td>43.673489</td>\n",
       "      <td>-79.413395</td>\n",
       "      <td>4</td>\n",
       "      <td>11</td>\n",
       "      <td>26.67</td>\n",
       "      <td>43.673489,-79.413395</td>\n",
       "    </tr>\n",
       "  </tbody>\n",
       "</table>\n",
       "<p>826 rows × 8 columns</p>\n",
       "</div>"
      ],
      "text/plain": [
       "                                   id  \\\n",
       "0    fb337bbed72e2be090071e199899b2be   \n",
       "1    4ff88d5880e71aa40d34cfe5d09b0ca7   \n",
       "2    a09c67c0b419654d907c9134b108e328   \n",
       "3    d6a9daee68070a8b106cfb598d81308c   \n",
       "4    8f8af40d9388c8a3962559e8681d3db7   \n",
       "..                                ...   \n",
       "821  9be5f078a1ed47fc11cd3cee45260f63   \n",
       "822  4ae37f3bddfb819954a15143d277dbd9   \n",
       "823  e7968ab22d9a15db0673f463144428eb   \n",
       "824  62acc308c0f93ff09d28e06c73afc3ec   \n",
       "825  bea74af3bf338f6416944906b4b99d01   \n",
       "\n",
       "                                             name   latitude  longitude  \\\n",
       "0                       Queen St E / Woodward Ave  43.665269 -79.319796   \n",
       "1                     Primrose Ave / Davenport Rd  43.671420 -79.445947   \n",
       "2                         Queen St E / Rhodes Ave  43.666224 -79.317693   \n",
       "3                            Bond St / Queen St E  43.653236 -79.376716   \n",
       "4                        Church St / Alexander St  43.663722 -79.380288   \n",
       "..                                            ...        ...        ...   \n",
       "821  Kennedy Rd/Ranstone Gdns (Jack Goodlad Park)  43.741906 -79.271819   \n",
       "822                   Eglinton Ave E / Brimley Rd  43.736953 -79.247984   \n",
       "823                            College Park South  43.659457 -79.382365   \n",
       "824                                  165 McRae Dr  43.705875 -79.368006   \n",
       "825                        Albany Ave / Dupont St  43.673489 -79.413395   \n",
       "\n",
       "     free_bikes  empty_slots  bike_availability                    ll  \n",
       "0            18            1              94.74  43.665269,-79.319796  \n",
       "1             1           14               6.67   43.67142,-79.445947  \n",
       "2            12           11              52.17  43.666224,-79.317693  \n",
       "3             5           32              13.51  43.653236,-79.376716  \n",
       "4             3           32               8.57  43.663722,-79.380288  \n",
       "..          ...          ...                ...                   ...  \n",
       "821           1           10               9.09  43.741906,-79.271819  \n",
       "822           8           11              42.11  43.736953,-79.247984  \n",
       "823           7           11              38.89  43.659457,-79.382365  \n",
       "824           4           11              26.67  43.705875,-79.368006  \n",
       "825           4           11              26.67  43.673489,-79.413395  \n",
       "\n",
       "[826 rows x 8 columns]"
      ]
     },
     "execution_count": 20,
     "metadata": {},
     "output_type": "execute_result"
    }
   ],
   "source": [
    "bike_stations"
   ]
  },
  {
   "cell_type": "code",
   "execution_count": null,
   "metadata": {},
   "outputs": [],
   "source": [
    "test"
   ]
  },
  {
   "cell_type": "code",
   "execution_count": null,
   "metadata": {},
   "outputs": [],
   "source": []
  },
  {
   "cell_type": "code",
   "execution_count": null,
   "metadata": {},
   "outputs": [],
   "source": [
    "# Json normalize!!!"
   ]
  },
  {
   "cell_type": "code",
   "execution_count": null,
   "metadata": {},
   "outputs": [],
   "source": []
  },
  {
   "cell_type": "markdown",
   "metadata": {},
   "source": [
    "Provide a visualization that you used as part of your EDA process. Explain the initial pattern or relationship you discoved through this visualization. "
   ]
  },
  {
   "cell_type": "code",
   "execution_count": null,
   "metadata": {},
   "outputs": [],
   "source": []
  },
  {
   "cell_type": "markdown",
   "metadata": {},
   "source": [
    "# Database"
   ]
  },
  {
   "cell_type": "markdown",
   "metadata": {},
   "source": [
    "Put all your results in an SQLite3 database (remember, SQLite stores its databases as files in your local machine - make sure to create your database in your project's data/ directory!)"
   ]
  },
  {
   "cell_type": "code",
   "execution_count": null,
   "metadata": {},
   "outputs": [],
   "source": []
  },
  {
   "cell_type": "markdown",
   "metadata": {},
   "source": [
    "Look at the data before and after the join to validate your data."
   ]
  },
  {
   "cell_type": "code",
   "execution_count": null,
   "metadata": {},
   "outputs": [],
   "source": []
  }
 ],
 "metadata": {
  "kernelspec": {
   "display_name": "Python 3 (ipykernel)",
   "language": "python",
   "name": "python3"
  },
  "language_info": {
   "codemirror_mode": {
    "name": "ipython",
    "version": 3
   },
   "file_extension": ".py",
   "mimetype": "text/x-python",
   "name": "python",
   "nbconvert_exporter": "python",
   "pygments_lexer": "ipython3",
   "version": "3.12.2"
  }
 },
 "nbformat": 4,
 "nbformat_minor": 4
}
