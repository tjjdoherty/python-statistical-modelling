{
 "cells": [
  {
   "cell_type": "code",
   "execution_count": 146,
   "metadata": {},
   "outputs": [],
   "source": [
    "# imports\n",
    "import pandas as pd\n",
    "import os # use this to access your environment variables\n",
    "import requests # this will be used to call the APIs"
   ]
  },
  {
   "cell_type": "markdown",
   "metadata": {},
   "source": [
    "# Foursquare"
   ]
  },
  {
   "cell_type": "markdown",
   "metadata": {},
   "source": [
    "Send a request to Foursquare with a small radius (1000m) for all the bike stations in your city of choice. "
   ]
  },
  {
   "cell_type": "code",
   "execution_count": 148,
   "metadata": {},
   "outputs": [
    {
     "name": "stdout",
     "output_type": "stream",
     "text": [
      "fsq3F074rL3S6i0kGeOeRWB1KhL1WLyqB4dyTOG72DKFm4A=\n"
     ]
    }
   ],
   "source": [
    "FOURSQUARE_KEY = os.getenv('FOURSQUARE_API_KEY')\n",
    "print(FOURSQUARE_KEY)\n",
    "# confirm API key has been imported successfully from Terminal"
   ]
  },
  {
   "cell_type": "code",
   "execution_count": 150,
   "metadata": {},
   "outputs": [],
   "source": [
    "def get_venues_fs(latitude, longitude, radius, api_key, categories, limit):\n",
    "    \"\"\"\n",
    "    Get amenities and POIs from Foursquare API call\n",
    "    Args:\n",
    "        latitude (float): latitude for query (must be combined with longitude)\n",
    "        longitude (float): longitude for query (must be combined with latitude)\n",
    "        api_key (str): foursquare API to use for query (imported in line above)\n",
    "        categories (str) : Foursquare-recognized place type. If not passed no place_type will be specified. Separate ids with commas\n",
    "    \n",
    "    Returns:\n",
    "        response: response object from the requests library.\n",
    "    \"\"\"\n",
    "    url = \"https://api.foursquare.com/v3/places/search\"\n",
    "    \n",
    "    headers = {\n",
    "        \"Accept\": \"application/json\",\n",
    "        \"Authorization\": api_key\n",
    "    }\n",
    "    \n",
    "    params = {\n",
    "        \"ll\": f\"{latitude},{longitude}\",\n",
    "        \"radius\": radius,\n",
    "        \"categories\": categories,\n",
    "        \"limit\": limit\n",
    "    }\n",
    "    \n",
    "    response = requests.get(url, headers=headers, params=params)\n",
    "    \n",
    "    if response.status_code == 200: # 200 is success\n",
    "        return response.json()\n",
    "    else:\n",
    "        response.raise_for_status()\n",
    "        "
   ]
  },
  {
   "cell_type": "code",
   "execution_count": 156,
   "metadata": {},
   "outputs": [
    {
     "name": "stdout",
     "output_type": "stream",
     "text": [
      "44\n",
      "\n",
      "\n",
      "{'fsq_id': '4b11b1f2f964a520778223e3', 'categories': [{'id': 13026, 'name': 'BBQ Joint', 'short_name': 'BBQ', 'plural_name': 'BBQ Joints', 'icon': {'prefix': 'https://ss3.4sqi.net/img/categories_v2/food/bbqalt_', 'suffix': '.png'}}, {'id': 13289, 'name': 'Korean Restaurant', 'short_name': 'Korean', 'plural_name': 'Korean Restaurants', 'icon': {'prefix': 'https://ss3.4sqi.net/img/categories_v2/food/korean_', 'suffix': '.png'}}], 'chains': [], 'closed_bucket': 'LikelyOpen', 'distance': 24, 'geocodes': {'main': {'latitude': 43.664553, 'longitude': -79.414501}, 'roof': {'latitude': 43.664553, 'longitude': -79.414501}}, 'link': '/v3/places/4b11b1f2f964a520778223e3', 'location': {'address': '628 Bloor St W', 'country': 'CA', 'formatted_address': '628 Bloor St W, Toronto ON M6G 1K7', 'locality': 'Toronto', 'postcode': 'M6G 1K7', 'region': 'ON'}, 'name': 'Korean Village Restaurant', 'related_places': {}, 'timezone': 'America/Toronto'}\n",
      "\n",
      "\n",
      "Korean Village Restaurant\n",
      "628 Bloor St W\n",
      "BBQ Joint\n",
      "\n",
      "\n",
      "Ninetails Coffee Bar, 651 Bloor St W, ['Coffee Shop', 'Restaurant']\n",
      "Snakes & Lattes, 600 Bloor St W, ['Café', 'Coffee Shop', 'Restaurant']\n",
      "Rustle & Still Café, 605 Bloor St W, ['Café', 'Coffee Shop', 'Sandwich Spot']\n",
      "Korean Village Restaurant, 628 Bloor St W, ['BBQ Joint', 'Korean Restaurant']\n",
      "Buk Chang Dong Soon Tofu, 691 Bloor St W, ['Korean Restaurant']\n",
      "Insomnia Restaurant and Lounge, 563 Bloor St W, ['Restaurant', 'Lounge']\n",
      "Basecamp Climbing, 677 Bloor St W, ['Rock Climbing Spot', 'Gym and Studio']\n",
      "Christie Pits Park, 750 Bloor St W, ['Park']\n",
      "Sam James Coffee Bar, 297 Harbord St, ['Café', 'Coffee Shop', 'Restaurant']\n",
      "Banjara Indian Cuisine, 796 Bloor St W, ['Indian Restaurant']\n",
      "Kinka Izakaya Bloor, 559 Bloor St W, ['Japanese Restaurant', 'Sake Bar']\n",
      "Crafty Coyote, 511 Bloor St W, ['Beer Bar', 'Restaurant']\n",
      "Paradise Grapevine, 841 Bloor St W, ['Wine Bar']\n",
      "El Pocho Antojitos Bar, 2 Follis Ave, ['Bar', 'Tex-Mex Restaurant']\n",
      "Victory Cafe, 440 Bloor St W, ['Beer Bar', 'Restaurant']\n",
      "Pizza Gigi, 189 Harbord St, ['Pizzeria']\n",
      "New Generation Sushi, 486 Bloor St W, ['Sushi Restaurant']\n",
      "Vermont Square Park, 819 Palmerston Ave, ['Playground']\n",
      "Sushi on Bloor, 515 Bloor St W, ['Sushi Restaurant']\n",
      "Famoso Italian Pizzeria - Annex, 386 Bloor St W, ['Pizzeria', 'Italian Restaurant']\n",
      "Arisu, 584 Bloor St W, ['BBQ Joint', 'Japanese Restaurant', 'Korean Restaurant']\n",
      "Baskin-Robbins, 726 Bloor St W, ['Ice Cream Parlor', 'Fast Food Restaurant']\n",
      "St. Louis Bar and Grill, 376 Bloor St W, ['BBQ Joint', 'Italian Restaurant', 'Vietnamese Restaurant']\n",
      "Pour Boy Pub, 666 Manning Ave, ['Pub', 'Restaurant']\n",
      "Future Bistro, 483 Bloor St W, ['Bakery', 'Bistro', 'Café']\n",
      "Coda, 794 Bathurst St, ['Night Club', 'Bar']\n",
      "Paupers Pub, 539 Bloor St W, ['Pub', 'Burger Joint', 'American Restaurant']\n",
      "Mary Brown's Chicken, 636 Bloor St W, ['Fried Chicken Joint', 'Fast Food Restaurant']\n",
      "MaMa Chef Korean Restaurant, 648 Bloor St W, ['Korean Restaurant']\n",
      "Jin Dal Lae, 647 Bloor St W, ['Korean Restaurant']\n",
      "Ka-Chi, 2322 Bloor St W, ['Korean Restaurant']\n",
      "Greek in the Village, 664 Bloor St W, ['Greek Restaurant']\n",
      "JJIN Toast, 792 Bathurst St, ['Korean Restaurant']\n",
      "Ed and Anne Mirvish Parkette, 843 Bathurst, ['Park']\n",
      "Kinton Ramen, 668 Bloor St W, ['Ramen Restaurant', 'Noodle Restaurant']\n",
      "Tim Hortons, 726 Bloor St W, ['Cafe, Coffee, and Tea House', 'Donut Shop', 'Restaurant']\n",
      "Bickford Park, Address not available, ['Park']\n",
      "Chibachou, 196 Borden St, ['Deli']\n",
      "Healey Willan Park, 504 Euclid Ave, ['Park']\n",
      "St. Alban's Square, 90 Howland Ave, ['Park']\n",
      "Joseph Burr Tyrell Park, 357 Brunswick Ave, ['Playground']\n",
      "Art Eggleton Park, 323 Harbord St, ['Park']\n",
      "The Londoners Pub: boire, manger, danser, bouger & Grill Inc, 500 Bloor St W, ['Restaurant']\n",
      "The Saturday Songwriters Circus, 292 Brunswick Ave, ['Concert Hall']\n"
     ]
    }
   ],
   "source": [
    "# testing\n",
    "\n",
    "categories = '10035,13003,13065,16000' # See following cell bullet points for category names - bars, restaurants, live shows, outdoors\n",
    "\n",
    "res = get_venues_fs(latitude=43.664467, longitude=-79.414783, radius=750, api_key=FOURSQUARE_KEY, categories=categories, limit=50)\n",
    "\n",
    "print(len(res['results']))\n",
    "print(\"\\n\")\n",
    "print(res['results'][3]) # main body of a specific venue result\n",
    "print(\"\\n\")\n",
    "\n",
    "print(res['results'][3]['name'])  # this is how you access the name, we could loop through to get names\n",
    "\n",
    "print(res['results'][3]['location']['address']) # accessing the address for the dataframe\n",
    "\n",
    "print(res['results'][3]['categories'][0]['name']) # accessing the first general category of the venue, most only have one\n",
    "print(\"\\n\")\n",
    "\n",
    "for venue in res['results']:\n",
    "    name = venue['name']\n",
    "    address = venue['location'].get('address', 'Address not available')\n",
    "    category_names = [category['name'] for category in venue['categories']] # there are multiple categories for some venues\n",
    "    print(f\"{name}, {address}, {category_names}\")\n",
    "\n",
    "    \n",
    "# print(res['results'])"
   ]
  },
  {
   "cell_type": "markdown",
   "metadata": {},
   "source": [
    "**Notes on the test API Call and justification of parameters:**\n",
    "- Downtown Toronto is very densely packed with bike stations and the amenities I will be searching for. The default radius is 5km which is too large to capture the relationship between bike/dock availability and amenities. The appropriate range would be either **1km or even 750m**\n",
    "- Foursquare Category IDs of interest are: 10035 (Performing Arts Venue), 12013 (College and University amenities), 13003 (Bars), 13065 (Restaurants)\n",
    "- Other candidates: 16000 (landmarks & outdoors), 17057 (Food & Beverage Retail), 18000 (Sports & Recreaction)"
   ]
  },
  {
   "cell_type": "markdown",
   "metadata": {},
   "source": [
    "**Notes on the information to return in dataframe**\n",
    "- Name of Venue\n",
    "- Address\n",
    "- Venue Categories\n",
    "- The latitude and longitude used to call the results belongs to the bike dock\n",
    "\n",
    "The unified dataframe is about the bike docks/stations and this data will return number of bars, number of restaurants, performing arts venues, outdoor venues"
   ]
  },
  {
   "cell_type": "code",
   "execution_count": null,
   "metadata": {},
   "outputs": [],
   "source": []
  },
  {
   "cell_type": "markdown",
   "metadata": {},
   "source": [
    "Parse through the response to get the POI (such as restaurants, bars, etc) details you want (ratings, name, location, etc)"
   ]
  },
  {
   "cell_type": "code",
   "execution_count": null,
   "metadata": {},
   "outputs": [],
   "source": []
  },
  {
   "cell_type": "markdown",
   "metadata": {},
   "source": [
    "Put your parsed results into a DataFrame"
   ]
  },
  {
   "cell_type": "code",
   "execution_count": null,
   "metadata": {},
   "outputs": [],
   "source": []
  },
  {
   "cell_type": "markdown",
   "metadata": {},
   "source": [
    "# Yelp"
   ]
  },
  {
   "cell_type": "markdown",
   "metadata": {},
   "source": [
    "**Send a request to Yelp with a small radius (1000m) for all the bike stations in your city of choice.**"
   ]
  },
  {
   "cell_type": "markdown",
   "metadata": {},
   "source": [
    "Notes on Yelp API:\n",
    "- They have a number of differnt types of search including search for events, search by business ID, others...\n",
    "- To compare closest with Foursquare we will use the standard businesses search\n",
    "- The starter API package offers review count and average review star rating\n",
    "- First 300 calls are free and it's 7.99 for 1000 API calls\n",
    "- We would need to make at least 820 api calls for each of the bike stations"
   ]
  },
  {
   "cell_type": "code",
   "execution_count": 150,
   "metadata": {},
   "outputs": [],
   "source": [
    "def get_venues_yelp(latitude, longitude, radius, yelp_api_key, categories, limit):\n",
    "    \"\"\"\n",
    "    Get amenities and POIs from Yelp API call\n",
    "    Args:\n",
    "        latitude (float): latitude for query (must be combined with longitude)\n",
    "        longitude (float): longitude for query (must be combined with latitude)\n",
    "        yelp_api_key (str): foursquare API to use for query (imported in line above)\n",
    "        categories (str) : Place type. If not passed no place_type will be specified. Separate ids with commas\n",
    "    \n",
    "    Returns:\n",
    "        response: response object from the requests library.\n",
    "    \"\"\"\n",
    "    url = \"https://api.yelp.com/v3/businesses/search\"\n",
    "    \n",
    "    headers = {\n",
    "        \"Accept\": \"application/json\",\n",
    "        \"Authorization\": yelp_api_key\n",
    "    }\n",
    "    \n",
    "    params = {\n",
    "        \"ll\": f\"{latitude},{longitude}\",\n",
    "        \"radius\": radius,\n",
    "        \"categories\": categories,\n",
    "        \"limit\": limit\n",
    "    }\n",
    "    \n",
    "    response = requests.get(url, headers=headers, params=params)\n",
    "    \n",
    "    if response.status_code == 200: # 200 is success\n",
    "        return response.json()\n",
    "    else:\n",
    "        response.raise_for_status()\n",
    "        "
   ]
  },
  {
   "cell_type": "code",
   "execution_count": null,
   "metadata": {},
   "outputs": [],
   "source": []
  },
  {
   "cell_type": "markdown",
   "metadata": {},
   "source": [
    "Parse through the response to get the POI (such as restaurants, bars, etc) details you want (ratings, name, location, etc)"
   ]
  },
  {
   "cell_type": "code",
   "execution_count": null,
   "metadata": {},
   "outputs": [],
   "source": []
  },
  {
   "cell_type": "markdown",
   "metadata": {},
   "source": [
    "Put your parsed results into a DataFrame"
   ]
  },
  {
   "cell_type": "markdown",
   "metadata": {},
   "source": []
  },
  {
   "cell_type": "markdown",
   "metadata": {},
   "source": [
    "# Comparing Results"
   ]
  },
  {
   "cell_type": "markdown",
   "metadata": {},
   "source": [
    "Which API provided you with more complete data? Provide an explanation. "
   ]
  },
  {
   "cell_type": "markdown",
   "metadata": {},
   "source": []
  },
  {
   "cell_type": "markdown",
   "metadata": {},
   "source": [
    "Get the top 10 restaurants according to their rating"
   ]
  },
  {
   "cell_type": "code",
   "execution_count": null,
   "metadata": {},
   "outputs": [],
   "source": []
  }
 ],
 "metadata": {
  "kernelspec": {
   "display_name": "Python 3 (ipykernel)",
   "language": "python",
   "name": "python3"
  },
  "language_info": {
   "codemirror_mode": {
    "name": "ipython",
    "version": 3
   },
   "file_extension": ".py",
   "mimetype": "text/x-python",
   "name": "python",
   "nbconvert_exporter": "python",
   "pygments_lexer": "ipython3",
   "version": "3.12.2"
  }
 },
 "nbformat": 4,
 "nbformat_minor": 4
}
