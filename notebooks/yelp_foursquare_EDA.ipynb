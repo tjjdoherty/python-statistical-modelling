{
 "cells": [
  {
   "cell_type": "code",
   "execution_count": 2,
   "metadata": {},
   "outputs": [],
   "source": [
    "# imports\n",
    "import pandas as pd\n",
    "import os # use this to access your environment variables\n",
    "import requests # this will be used to call the APIs"
   ]
  },
  {
   "cell_type": "markdown",
   "metadata": {},
   "source": [
    "# Foursquare"
   ]
  },
  {
   "cell_type": "markdown",
   "metadata": {},
   "source": [
    "Send a request to Foursquare with a small radius (1000m) for all the bike stations in your city of choice. "
   ]
  },
  {
   "cell_type": "code",
   "execution_count": 4,
   "metadata": {},
   "outputs": [
    {
     "name": "stdout",
     "output_type": "stream",
     "text": [
      "fsq3F074rL3S6i0kGeOeRWB1KhL1WLyqB4dyTOG72DKFm4A=\n"
     ]
    }
   ],
   "source": [
    "FOURSQUARE_KEY = os.getenv('FOURSQUARE_API_KEY')\n",
    "print(FOURSQUARE_KEY)\n",
    "# confirm API key has been imported successfully from Terminal"
   ]
  },
  {
   "cell_type": "code",
   "execution_count": 10,
   "metadata": {},
   "outputs": [],
   "source": [
    "def get_venues_fs(latitude, longitude, radius, api_key, categories, limit):\n",
    "    \"\"\"\n",
    "    Get amenities and POIs from Foursquare API call\n",
    "    Args:\n",
    "        latitude (float): latitude for query (must be combined with longitude)\n",
    "        longitude (float): longitude for query (must be combined with latitude)\n",
    "        api_key (str): foursquare API to use for query (imported in line above)\n",
    "        categories (str) : Foursquare-recognized place type. If not passed no place_type will be specified. Separate ids with commas\n",
    "    \n",
    "    Returns:\n",
    "        response: response object from the requests library.\n",
    "    \"\"\"\n",
    "    url = \"https://api.foursquare.com/v3/places/search\"\n",
    "    \n",
    "    headers = {\n",
    "        \"Accept\": \"application/json\",\n",
    "        \"Authorization\": api_key\n",
    "    }\n",
    "    \n",
    "    params = {\n",
    "        \"ll\": f\"{latitude},{longitude}\",\n",
    "        \"radius\": radius,\n",
    "        \"categories\": categories,\n",
    "        \"limit\": limit\n",
    "    }\n",
    "    \n",
    "    response = requests.get(url, headers=headers, params=params)\n",
    "    \n",
    "    if response.status_code == 200: # 200 is success\n",
    "        return response.json()\n",
    "    else:\n",
    "        response.raise_for_status()\n",
    "        "
   ]
  },
  {
   "cell_type": "code",
   "execution_count": 26,
   "metadata": {},
   "outputs": [
    {
     "name": "stdout",
     "output_type": "stream",
     "text": [
      "26\n",
      "Prenup Pub\n"
     ]
    }
   ],
   "source": [
    "# testing\n",
    "res = get_venues_fs(latitude=43.657763, longitude=-79.389165, radius=750, api_key=FOURSQUARE_KEY, categories=13003, limit=50)\n",
    "\n",
    "print(len(res['results']))\n",
    "\n",
    "print(res['results'][2]['name']) # this is how you access the name, we could loop through [i] to get names\n",
    "\n",
    "    \n",
    "# print(res['results'])"
   ]
  },
  {
   "cell_type": "markdown",
   "metadata": {},
   "source": [
    "**Notes on the test API Call and justification of parameters:**\n",
    "- Downtown Toronto is very densely packed with bike stations and the amenities I will be searching for. The default radius is 5km which is too large to capture the relationship between bike/dock availability and amenities. The appropriate range would be either **1km or even 750m**\n",
    "- Foursquare Category IDs of interest are: 10035 (Performing Arts Venue), 12013 (College and University amenities), 13003 (Bars), 13065 (Restaurants)\n",
    "- Other candidates: 16000 (landmarks & outdoors), 17057 (Food & Beverate Retail), 18000 (Sports & Recreaction)"
   ]
  },
  {
   "cell_type": "code",
   "execution_count": null,
   "metadata": {},
   "outputs": [],
   "source": []
  },
  {
   "cell_type": "markdown",
   "metadata": {},
   "source": [
    "Parse through the response to get the POI (such as restaurants, bars, etc) details you want (ratings, name, location, etc)"
   ]
  },
  {
   "cell_type": "code",
   "execution_count": null,
   "metadata": {},
   "outputs": [],
   "source": []
  },
  {
   "cell_type": "markdown",
   "metadata": {},
   "source": [
    "Put your parsed results into a DataFrame"
   ]
  },
  {
   "cell_type": "code",
   "execution_count": null,
   "metadata": {},
   "outputs": [],
   "source": []
  },
  {
   "cell_type": "markdown",
   "metadata": {},
   "source": [
    "# Yelp"
   ]
  },
  {
   "cell_type": "markdown",
   "metadata": {},
   "source": [
    "Send a request to Yelp with a small radius (1000m) for all the bike stations in your city of choice. "
   ]
  },
  {
   "cell_type": "code",
   "execution_count": null,
   "metadata": {},
   "outputs": [],
   "source": []
  },
  {
   "cell_type": "markdown",
   "metadata": {},
   "source": [
    "Parse through the response to get the POI (such as restaurants, bars, etc) details you want (ratings, name, location, etc)"
   ]
  },
  {
   "cell_type": "code",
   "execution_count": null,
   "metadata": {},
   "outputs": [],
   "source": []
  },
  {
   "cell_type": "markdown",
   "metadata": {},
   "source": [
    "Put your parsed results into a DataFrame"
   ]
  },
  {
   "cell_type": "markdown",
   "metadata": {},
   "source": []
  },
  {
   "cell_type": "markdown",
   "metadata": {},
   "source": [
    "# Comparing Results"
   ]
  },
  {
   "cell_type": "markdown",
   "metadata": {},
   "source": [
    "Which API provided you with more complete data? Provide an explanation. "
   ]
  },
  {
   "cell_type": "markdown",
   "metadata": {},
   "source": []
  },
  {
   "cell_type": "markdown",
   "metadata": {},
   "source": [
    "Get the top 10 restaurants according to their rating"
   ]
  },
  {
   "cell_type": "code",
   "execution_count": null,
   "metadata": {},
   "outputs": [],
   "source": []
  }
 ],
 "metadata": {
  "kernelspec": {
   "display_name": "Python 3 (ipykernel)",
   "language": "python",
   "name": "python3"
  },
  "language_info": {
   "codemirror_mode": {
    "name": "ipython",
    "version": 3
   },
   "file_extension": ".py",
   "mimetype": "text/x-python",
   "name": "python",
   "nbconvert_exporter": "python",
   "pygments_lexer": "ipython3",
   "version": "3.12.2"
  }
 },
 "nbformat": 4,
 "nbformat_minor": 4
}
